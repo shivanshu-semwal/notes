{
 "cells": [
  {
   "cell_type": "markdown",
   "id": "c9eef1e1-70f1-4797-a217-329430b33279",
   "metadata": {},
   "source": [
    "# R Basics\n",
    "\n",
    "## Data Types\n",
    "\n",
    "There are six basic data types in R:\n",
    "\n",
    "- Logical\n",
    "- Numeric\n",
    "- Integer\n",
    "- Complex\n",
    "- Character\n",
    "- Raw\n"
   ]
  },
  {
   "cell_type": "markdown",
   "id": "2a56cf18-fb3e-4190-bafb-306fe2e47b99",
   "metadata": {},
   "source": [
    "### Logical\n",
    "\n",
    "The `logical` data type in R is also known as boolean data type. It can have value `TRUE` and `FALSE`."
   ]
  },
  {
   "cell_type": "code",
   "execution_count": 6,
   "id": "1616bcd8-26f0-467a-bbd3-f56e1b71c3b5",
   "metadata": {},
   "outputs": [
    {
     "name": "stdout",
     "output_type": "stream",
     "text": [
      "[1] TRUE\n",
      "[1] \"logical\"\n"
     ]
    }
   ],
   "source": [
    "bool1 <- TRUE\n",
    "print(bool1)\n",
    "print(class(bool1))"
   ]
  },
  {
   "cell_type": "markdown",
   "id": "9a3f2cae-0e94-460e-aca5-e2bebbf819f6",
   "metadata": {},
   "source": [
    "### Numeric\n",
    "\n",
    "- number with decimal points"
   ]
  },
  {
   "cell_type": "code",
   "execution_count": 8,
   "id": "fba3e0ea-8981-461d-bf96-68673724b01f",
   "metadata": {},
   "outputs": [
    {
     "name": "stdout",
     "output_type": "stream",
     "text": [
      "[1] 65.4\n",
      "[1] \"numeric\"\n",
      "[1] 100\n",
      "[1] \"numeric\"\n"
     ]
    }
   ],
   "source": [
    "weight <- 65.4\n",
    "print(weight)\n",
    "print(class(weight))\n",
    "\n",
    "marks <- 100\n",
    "print(marks)\n",
    "print(class(marks))"
   ]
  },
  {
   "cell_type": "markdown",
   "id": "cad1d8e7-49c6-4dd3-9f50-85a378cbf025",
   "metadata": {},
   "source": [
    "### Integer\n",
    "\n",
    "- number without decimal points"
   ]
  },
  {
   "cell_type": "code",
   "execution_count": 10,
   "id": "010e7447-5eef-4b00-9a3b-45663f53300b",
   "metadata": {},
   "outputs": [
    {
     "name": "stdout",
     "output_type": "stream",
     "text": [
      "[1] 100\n",
      "[1] \"integer\"\n"
     ]
    }
   ],
   "source": [
    "int_var <- 100L\n",
    "print(int_var)\n",
    "print(class(int_var))"
   ]
  },
  {
   "cell_type": "markdown",
   "id": "547045ff-70a3-4f64-9aba-5003801147c0",
   "metadata": {},
   "source": [
    "### Complex\n",
    "\n",
    "- for complex numbers"
   ]
  },
  {
   "cell_type": "code",
   "execution_count": 12,
   "id": "a0fc2144-4137-4c73-84d8-4e420a4e91fe",
   "metadata": {},
   "outputs": [
    {
     "name": "stdout",
     "output_type": "stream",
     "text": [
      "[1] 1+2i\n",
      "[1] \"complex\"\n"
     ]
    }
   ],
   "source": [
    "c_var <- 1 + 2i\n",
    "print(c_var)\n",
    "print(class(c_var))"
   ]
  },
  {
   "cell_type": "markdown",
   "id": "1576df56-10da-4064-a208-491d20b25a1f",
   "metadata": {},
   "source": [
    "### Character\n",
    "\n",
    "- character or a string of values\n",
    "- no differerent string and character type like in other programming languages"
   ]
  },
  {
   "cell_type": "code",
   "execution_count": 15,
   "id": "2e8224a7-400d-4655-9429-f8fec43a4c14",
   "metadata": {},
   "outputs": [
    {
     "name": "stdout",
     "output_type": "stream",
     "text": [
      "[1] \"apple\"\n",
      "[1] \"character\"\n",
      "[1] \"apple\"\n",
      "[1] \"character\"\n"
     ]
    }
   ],
   "source": [
    "fruit <- \"apple\"\n",
    "print(fruit)\n",
    "print(class(fruit))\n",
    "\n",
    "fruit1 <- 'apple'\n",
    "print(fruit1)\n",
    "print(class(fruit1))\n"
   ]
  },
  {
   "cell_type": "markdown",
   "id": "f4cf49a2-123e-482a-91a8-dc4e04ea740f",
   "metadata": {},
   "source": [
    "### Raw \n",
    "\n",
    "- raw in form of binary\n",
    "- can be used to convert character type to ASCII values, and vice versa\n",
    "- can also be used if you want to export data in binary"
   ]
  },
  {
   "cell_type": "code",
   "execution_count": 16,
   "id": "08341576-bac5-42c4-95de-389176c2eb01",
   "metadata": {},
   "outputs": [
    {
     "name": "stdout",
     "output_type": "stream",
     "text": [
      "[1] 68 65 6c 6c 6f\n",
      "[1] \"raw\"\n"
     ]
    }
   ],
   "source": [
    "raw <- charToRaw(\"hello\")\n",
    "print(raw)\n",
    "print(class(raw))"
   ]
  },
  {
   "cell_type": "code",
   "execution_count": 18,
   "id": "4f28e88e-40fe-4543-ab82-fd26f1cc210a",
   "metadata": {},
   "outputs": [
    {
     "name": "stdout",
     "output_type": "stream",
     "text": [
      "[1] \"hello\"\n",
      "[1] \"character\"\n"
     ]
    }
   ],
   "source": [
    "char <- rawToChar(raw)\n",
    "print(char)\n",
    "print(class(char))"
   ]
  },
  {
   "cell_type": "markdown",
   "id": "fbd2ae47-3d1e-42ca-85b5-0bc0cabe73b3",
   "metadata": {},
   "source": [
    "## Operators\n",
    "\n",
    "- arithemtic\n",
    "- assignment\n",
    "- comparision\n",
    "- logical\n",
    "- miscellaneous"
   ]
  },
  {
   "cell_type": "markdown",
   "id": "f33ab446-f4ab-4b86-ba44-7ce0f54c26de",
   "metadata": {},
   "source": [
    "### Arithmetic\n",
    "\n",
    "- `+` addition\n",
    "- `-` subtraction\n",
    "- `*` multiplication\n",
    "- `/` division\n",
    "- `^` exponent\n",
    "- `%%` modulud\n",
    "- `%/%` integer division"
   ]
  },
  {
   "cell_type": "markdown",
   "id": "1c984b02-9f25-40e2-a972-dcb81ae27b63",
   "metadata": {},
   "source": [
    "### Assignement\n",
    "\n",
    "- `var <- value`\n",
    "- `var <<- val`\n",
    "- `value -> var`\n",
    "- `val ->> var`"
   ]
  },
  {
   "cell_type": "markdown",
   "id": "5317938f-8593-4b6c-a8d5-6507da3b3de7",
   "metadata": {},
   "source": [
    "### Comparision\n",
    "\n",
    "- `==`, `!=`\n",
    "- `<`, `<=` `>`, `>=`"
   ]
  },
  {
   "cell_type": "markdown",
   "id": "e55f92ee-b9c4-4ae5-a73e-40c153d83bdf",
   "metadata": {},
   "source": [
    "### Logical\n",
    "\n",
    "- `&`\n",
    "- `&&`\n",
    "- `|`\n",
    "- `||`\n",
    "- `!`"
   ]
  },
  {
   "cell_type": "markdown",
   "id": "436df535-b56a-46ef-b70e-b1312841f571",
   "metadata": {},
   "source": [
    "### Miscellaneous\n",
    "\n",
    "- `:` - create series `x <- 1:10`\n",
    "- `%in%` - find id a element belong to a vector `x%in%y`\n",
    "- `%*%` - martix multiplication"
   ]
  },
  {
   "cell_type": "markdown",
   "id": "c0587cfa-2455-48b3-b2b7-949cb5d35075",
   "metadata": {},
   "source": [
    "## Conditionals"
   ]
  },
  {
   "cell_type": "code",
   "execution_count": 21,
   "id": "c8cf5729-bb43-4f2b-8b27-10863628d661",
   "metadata": {},
   "outputs": [
    {
     "name": "stdout",
     "output_type": "stream",
     "text": [
      "[1] \"not equal\"\n"
     ]
    }
   ],
   "source": [
    "x <- 1\n",
    "y <- 2\n",
    "\n",
    "if (x == y){\n",
    "    print('equal')\n",
    "} else {\n",
    "    print('not equal')\n",
    "}"
   ]
  },
  {
   "cell_type": "markdown",
   "id": "228ad45c-38d6-408c-9b88-e8226a8588c9",
   "metadata": {},
   "source": [
    "## Loops"
   ]
  },
  {
   "cell_type": "code",
   "execution_count": 22,
   "id": "97b6fa26-d5ba-4cee-a683-668cb4331fbd",
   "metadata": {},
   "outputs": [
    {
     "name": "stdout",
     "output_type": "stream",
     "text": [
      "[1] 1\n",
      "[1] 2\n",
      "[1] 3\n",
      "[1] 4\n",
      "[1] 5\n"
     ]
    }
   ],
   "source": [
    "for (val in 1:5) print(val)"
   ]
  },
  {
   "cell_type": "code",
   "execution_count": 24,
   "id": "127dd392-ef33-43a2-b262-8f1528725001",
   "metadata": {},
   "outputs": [
    {
     "name": "stdout",
     "output_type": "stream",
     "text": [
      "[1] 1\n",
      "[1] 2\n",
      "[1] 3\n",
      "[1] 4\n",
      "[1] 5\n"
     ]
    }
   ],
   "source": [
    "i <- 1\n",
    "while (i < 6){\n",
    "    print(i)\n",
    "    i <- i + 1\n",
    "}"
   ]
  },
  {
   "cell_type": "code",
   "execution_count": 25,
   "id": "d7a74651-4f9f-4a71-b555-ef769abe6c56",
   "metadata": {},
   "outputs": [
    {
     "name": "stdout",
     "output_type": "stream",
     "text": [
      "[1] 1\n",
      "[1] 2\n",
      "[1] 3\n",
      "[1] 4\n",
      "[1] 5\n"
     ]
    }
   ],
   "source": [
    "i <- 1\n",
    "repeat {\n",
    "    print(i)\n",
    "    if(i == 5) break;\n",
    "    i <- i+1\n",
    "}"
   ]
  },
  {
   "cell_type": "markdown",
   "id": "61bd5e7d-4b7f-4422-b333-63de9c258208",
   "metadata": {},
   "source": [
    "## RScript\n",
    "\n",
    "- run R code as a script\n",
    "- `Rscript [script-name]`"
   ]
  },
  {
   "cell_type": "markdown",
   "id": "7895fd5c-e4a9-4cc1-bffd-4dda880d7c20",
   "metadata": {},
   "source": [
    "## Function"
   ]
  },
  {
   "cell_type": "code",
   "execution_count": 27,
   "id": "3de3143d-c2d1-4775-87c5-da1a826a79b7",
   "metadata": {},
   "outputs": [
    {
     "name": "stdout",
     "output_type": "stream",
     "text": [
      "[1] \"hi\"\n"
     ]
    }
   ],
   "source": [
    "## defining\n",
    "my_fun <- function(){\n",
    "    print(\"hi\")\n",
    "}\n",
    "\n",
    "## calling\n",
    "my_fun() "
   ]
  },
  {
   "cell_type": "code",
   "execution_count": 33,
   "id": "b6531101-6a73-415a-a8fc-ebe4ee6340f5",
   "metadata": {},
   "outputs": [
    {
     "data": {
      "text/html": [
       "'hi ram'"
      ],
      "text/latex": [
       "'hi ram'"
      ],
      "text/markdown": [
       "'hi ram'"
      ],
      "text/plain": [
       "[1] \"hi ram\""
      ]
     },
     "metadata": {},
     "output_type": "display_data"
    }
   ],
   "source": [
    "my_fun <- function(name){\n",
    "    paste(\"hi\", name)\n",
    "}\n",
    "\n",
    "my_fun(\"ram\")"
   ]
  }
 ],
 "metadata": {
  "kernelspec": {
   "display_name": "R",
   "language": "R",
   "name": "ir"
  },
  "language_info": {
   "codemirror_mode": "r",
   "file_extension": ".r",
   "mimetype": "text/x-r-source",
   "name": "R",
   "pygments_lexer": "r",
   "version": "4.2.2"
  },
  "toc-autonumbering": false
 },
 "nbformat": 4,
 "nbformat_minor": 5
}
